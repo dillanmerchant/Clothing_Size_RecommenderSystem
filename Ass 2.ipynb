{
 "cells": [
  {
   "cell_type": "code",
   "execution_count": 1,
   "id": "5c521cc0",
   "metadata": {},
   "outputs": [],
   "source": [
    "import gzip\n",
    "import math\n",
    "import matplotlib.pyplot as plt\n",
    "import numpy as np\n",
    "import random\n",
    "import sklearn\n",
    "import string\n",
    "from collections import defaultdict\n",
    "from gensim.models import Word2Vec\n",
    "#from nltk.stem.porter import *\n",
    "from sklearn import linear_model\n",
    "from sklearn.manifold import TSNE\n",
    "import pandas as pd\n",
    "import gzip\n",
    "from collections import defaultdict\n",
    "from sklearn import linear_model\n",
    "import csv\n",
    "from sklearn.linear_model import LinearRegression\n",
    "from sklearn.metrics import mean_squared_error\n",
    "import seaborn as sns\n",
    "import matplotlib.pyplot as plt\n",
    "import re"
   ]
  },
  {
   "cell_type": "code",
   "execution_count": 2,
   "id": "c241bb42",
   "metadata": {},
   "outputs": [],
   "source": [
    "def parse(f):\n",
    "    for l in gzip.open(f, 'r'):\n",
    "        yield eval(l)"
   ]
  },
  {
   "cell_type": "code",
   "execution_count": 154,
   "id": "46ce51ee",
   "metadata": {},
   "outputs": [],
   "source": [
    "null = None\n",
    "rent = list(parse(\"renttherunway_final_data.json.gz\"))"
   ]
  },
  {
   "cell_type": "code",
   "execution_count": 155,
   "id": "fb5a8fe7",
   "metadata": {},
   "outputs": [
    {
     "data": {
      "text/html": [
       "<div>\n",
       "<style scoped>\n",
       "    .dataframe tbody tr th:only-of-type {\n",
       "        vertical-align: middle;\n",
       "    }\n",
       "\n",
       "    .dataframe tbody tr th {\n",
       "        vertical-align: top;\n",
       "    }\n",
       "\n",
       "    .dataframe thead th {\n",
       "        text-align: right;\n",
       "    }\n",
       "</style>\n",
       "<table border=\"1\" class=\"dataframe\">\n",
       "  <thead>\n",
       "    <tr style=\"text-align: right;\">\n",
       "      <th></th>\n",
       "      <th>fit</th>\n",
       "      <th>user_id</th>\n",
       "      <th>bust size</th>\n",
       "      <th>item_id</th>\n",
       "      <th>weight</th>\n",
       "      <th>rating</th>\n",
       "      <th>rented for</th>\n",
       "      <th>review_text</th>\n",
       "      <th>body type</th>\n",
       "      <th>review_summary</th>\n",
       "      <th>category</th>\n",
       "      <th>height</th>\n",
       "      <th>size</th>\n",
       "      <th>age</th>\n",
       "      <th>review_date</th>\n",
       "    </tr>\n",
       "  </thead>\n",
       "  <tbody>\n",
       "    <tr>\n",
       "      <th>0</th>\n",
       "      <td>fit</td>\n",
       "      <td>420272</td>\n",
       "      <td>34d</td>\n",
       "      <td>2260466</td>\n",
       "      <td>137lbs</td>\n",
       "      <td>10</td>\n",
       "      <td>vacation</td>\n",
       "      <td>An adorable romper! Belt and zipper were a lit...</td>\n",
       "      <td>hourglass</td>\n",
       "      <td>So many compliments!</td>\n",
       "      <td>romper</td>\n",
       "      <td>5' 8\"</td>\n",
       "      <td>14</td>\n",
       "      <td>28</td>\n",
       "      <td>April 20, 2016</td>\n",
       "    </tr>\n",
       "    <tr>\n",
       "      <th>1</th>\n",
       "      <td>fit</td>\n",
       "      <td>273551</td>\n",
       "      <td>34b</td>\n",
       "      <td>153475</td>\n",
       "      <td>132lbs</td>\n",
       "      <td>10</td>\n",
       "      <td>other</td>\n",
       "      <td>I rented this dress for a photo shoot. The the...</td>\n",
       "      <td>straight &amp; narrow</td>\n",
       "      <td>I felt so glamourous!!!</td>\n",
       "      <td>gown</td>\n",
       "      <td>5' 6\"</td>\n",
       "      <td>12</td>\n",
       "      <td>36</td>\n",
       "      <td>June 18, 2013</td>\n",
       "    </tr>\n",
       "    <tr>\n",
       "      <th>2</th>\n",
       "      <td>fit</td>\n",
       "      <td>360448</td>\n",
       "      <td>NaN</td>\n",
       "      <td>1063761</td>\n",
       "      <td>NaN</td>\n",
       "      <td>10</td>\n",
       "      <td>party</td>\n",
       "      <td>This hugged in all the right places! It was a ...</td>\n",
       "      <td>NaN</td>\n",
       "      <td>It was a great time to celebrate the (almost) ...</td>\n",
       "      <td>sheath</td>\n",
       "      <td>5' 4\"</td>\n",
       "      <td>4</td>\n",
       "      <td>116</td>\n",
       "      <td>December 14, 2015</td>\n",
       "    </tr>\n",
       "    <tr>\n",
       "      <th>3</th>\n",
       "      <td>fit</td>\n",
       "      <td>909926</td>\n",
       "      <td>34c</td>\n",
       "      <td>126335</td>\n",
       "      <td>135lbs</td>\n",
       "      <td>8</td>\n",
       "      <td>formal affair</td>\n",
       "      <td>I rented this for my company's black tie award...</td>\n",
       "      <td>pear</td>\n",
       "      <td>Dress arrived on time and in perfect condition.</td>\n",
       "      <td>dress</td>\n",
       "      <td>5' 5\"</td>\n",
       "      <td>8</td>\n",
       "      <td>34</td>\n",
       "      <td>February 12, 2014</td>\n",
       "    </tr>\n",
       "    <tr>\n",
       "      <th>4</th>\n",
       "      <td>fit</td>\n",
       "      <td>151944</td>\n",
       "      <td>34b</td>\n",
       "      <td>616682</td>\n",
       "      <td>145lbs</td>\n",
       "      <td>10</td>\n",
       "      <td>wedding</td>\n",
       "      <td>I have always been petite in my upper body and...</td>\n",
       "      <td>athletic</td>\n",
       "      <td>Was in love with this dress !!!</td>\n",
       "      <td>gown</td>\n",
       "      <td>5' 9\"</td>\n",
       "      <td>12</td>\n",
       "      <td>27</td>\n",
       "      <td>September 26, 2016</td>\n",
       "    </tr>\n",
       "  </tbody>\n",
       "</table>\n",
       "</div>"
      ],
      "text/plain": [
       "   fit user_id bust size  item_id  weight rating     rented for  \\\n",
       "0  fit  420272       34d  2260466  137lbs     10       vacation   \n",
       "1  fit  273551       34b   153475  132lbs     10          other   \n",
       "2  fit  360448       NaN  1063761     NaN     10          party   \n",
       "3  fit  909926       34c   126335  135lbs      8  formal affair   \n",
       "4  fit  151944       34b   616682  145lbs     10        wedding   \n",
       "\n",
       "                                         review_text          body type  \\\n",
       "0  An adorable romper! Belt and zipper were a lit...          hourglass   \n",
       "1  I rented this dress for a photo shoot. The the...  straight & narrow   \n",
       "2  This hugged in all the right places! It was a ...                NaN   \n",
       "3  I rented this for my company's black tie award...               pear   \n",
       "4  I have always been petite in my upper body and...           athletic   \n",
       "\n",
       "                                      review_summary category height  size  \\\n",
       "0                               So many compliments!   romper  5' 8\"    14   \n",
       "1                            I felt so glamourous!!!     gown  5' 6\"    12   \n",
       "2  It was a great time to celebrate the (almost) ...   sheath  5' 4\"     4   \n",
       "3   Dress arrived on time and in perfect condition.     dress  5' 5\"     8   \n",
       "4                    Was in love with this dress !!!     gown  5' 9\"    12   \n",
       "\n",
       "   age         review_date  \n",
       "0   28      April 20, 2016  \n",
       "1   36       June 18, 2013  \n",
       "2  116   December 14, 2015  \n",
       "3   34   February 12, 2014  \n",
       "4   27  September 26, 2016  "
      ]
     },
     "execution_count": 155,
     "metadata": {},
     "output_type": "execute_result"
    }
   ],
   "source": [
    "cloth = pd.DataFrame(rent)\n",
    "cloth.head()"
   ]
  },
  {
   "cell_type": "markdown",
   "id": "0219104f",
   "metadata": {},
   "source": [
    "## Cleaning"
   ]
  },
  {
   "cell_type": "code",
   "execution_count": 156,
   "id": "77047ac3",
   "metadata": {},
   "outputs": [
    {
     "name": "stdout",
     "output_type": "stream",
     "text": [
      "bust size 18411\n",
      "weight 29982\n",
      "rating 82\n",
      "rented for 10\n",
      "body type 14637\n",
      "height 677\n",
      "age 960\n"
     ]
    }
   ],
   "source": [
    "for col in cloth.columns:\n",
    "    if cloth[col].isna().sum() != 0:\n",
    "        print(col, cloth[col].isna().sum())"
   ]
  },
  {
   "cell_type": "code",
   "execution_count": 157,
   "id": "162fc8c9",
   "metadata": {},
   "outputs": [],
   "source": [
    "unique_weights = [x for x in cloth['weight'].unique() if isinstance(x, str)]\n",
    "unique_heights = [x for x in cloth['height'].unique() if isinstance(x, str)]\n",
    "\n",
    "def weight_converter(x):\n",
    "    if isinstance(x, float):\n",
    "        chosen = random.randint(0, len(unique_weights) - 1)\n",
    "        x = unique_weights[chosen]\n",
    "    return int(x.strip('lbs'))\n",
    "\n",
    "def height_converter(x):\n",
    "    if isinstance(x, float):\n",
    "        chosen = random.sample(unique_heights, 1)[0]\n",
    "        x = chosen\n",
    "    nums = x.split()\n",
    "    num1 = int(re.findall(r'\\d+', nums[0])[0])\n",
    "    num2 = int(re.findall(r'\\d+', nums[-1])[0])\n",
    "    return (12 * num1) + num2\n",
    "\n",
    "bust_size = [x for x in list(cloth['bust size'].unique()) if isinstance(x, str)]\n",
    "def bust_size_imputer(x):\n",
    "    if isinstance(x, float):\n",
    "        return random.sample(bust_size, 1)[0]\n",
    "    return x\n",
    "\n",
    "body_type = [x for x in list(cloth['body type'].unique()) if isinstance(x, str)]\n",
    "def body_type_imputer(x):\n",
    "    if isinstance(x, float):\n",
    "        return random.sample(body_type, 1)[0]\n",
    "    return x\n",
    "\n",
    "ratings = [x for x in list(cloth['rating'].unique()) if isinstance(x, str)]\n",
    "def rating_imputer(x):\n",
    "    if (isinstance(x, float)) or (x == None):\n",
    "        return int(random.sample(ratings, 1)[0])\n",
    "    return int(x)\n",
    "\n",
    "rented = [x for x in list(cloth['rented for'].unique()) if isinstance(x, str)]\n",
    "def rent_imputer(x):\n",
    "    if isinstance(x, float):\n",
    "        return random.sample(body_type, 1)[0]\n",
    "    return x\n",
    "\n",
    "age = [x for x in list(cloth['age'].unique()) if isinstance(x, str)]\n",
    "def age_imputer(x):\n",
    "    if isinstance(x, float):\n",
    "        return int(random.sample(age, 1)[0])\n",
    "    return int(x)"
   ]
  },
  {
   "cell_type": "code",
   "execution_count": 158,
   "id": "ff233711",
   "metadata": {},
   "outputs": [],
   "source": [
    "cloth['weight'] = cloth['weight'].copy().apply(weight_converter)\n",
    "cloth['height'] = cloth['height'].copy().apply(height_converter)\n",
    "cloth['bust size'] = cloth['bust size'].copy().apply(bust_size_imputer)\n",
    "cloth['body type'] = cloth['body type'].copy().apply(body_type_imputer)\n",
    "cloth['rating'] = cloth['rating'].copy().apply(rating_imputer)\n",
    "cloth['rented for'] = cloth['rented for'].copy().apply(rent_imputer)\n",
    "cloth['age'] = cloth['age'].copy().apply(age_imputer)"
   ]
  },
  {
   "cell_type": "code",
   "execution_count": 159,
   "id": "98d76654",
   "metadata": {},
   "outputs": [
    {
     "data": {
      "text/html": [
       "<div>\n",
       "<style scoped>\n",
       "    .dataframe tbody tr th:only-of-type {\n",
       "        vertical-align: middle;\n",
       "    }\n",
       "\n",
       "    .dataframe tbody tr th {\n",
       "        vertical-align: top;\n",
       "    }\n",
       "\n",
       "    .dataframe thead th {\n",
       "        text-align: right;\n",
       "    }\n",
       "</style>\n",
       "<table border=\"1\" class=\"dataframe\">\n",
       "  <thead>\n",
       "    <tr style=\"text-align: right;\">\n",
       "      <th></th>\n",
       "      <th>fit</th>\n",
       "      <th>user_id</th>\n",
       "      <th>bust size</th>\n",
       "      <th>item_id</th>\n",
       "      <th>weight</th>\n",
       "      <th>rating</th>\n",
       "      <th>rented for</th>\n",
       "      <th>review_text</th>\n",
       "      <th>body type</th>\n",
       "      <th>review_summary</th>\n",
       "      <th>category</th>\n",
       "      <th>height</th>\n",
       "      <th>size</th>\n",
       "      <th>age</th>\n",
       "      <th>review_date</th>\n",
       "    </tr>\n",
       "  </thead>\n",
       "  <tbody>\n",
       "    <tr>\n",
       "      <th>0</th>\n",
       "      <td>fit</td>\n",
       "      <td>420272</td>\n",
       "      <td>34d</td>\n",
       "      <td>2260466</td>\n",
       "      <td>137</td>\n",
       "      <td>10</td>\n",
       "      <td>vacation</td>\n",
       "      <td>An adorable romper! Belt and zipper were a lit...</td>\n",
       "      <td>hourglass</td>\n",
       "      <td>So many compliments!</td>\n",
       "      <td>romper</td>\n",
       "      <td>68</td>\n",
       "      <td>14</td>\n",
       "      <td>28</td>\n",
       "      <td>April 20, 2016</td>\n",
       "    </tr>\n",
       "    <tr>\n",
       "      <th>1</th>\n",
       "      <td>fit</td>\n",
       "      <td>273551</td>\n",
       "      <td>34b</td>\n",
       "      <td>153475</td>\n",
       "      <td>132</td>\n",
       "      <td>10</td>\n",
       "      <td>other</td>\n",
       "      <td>I rented this dress for a photo shoot. The the...</td>\n",
       "      <td>straight &amp; narrow</td>\n",
       "      <td>I felt so glamourous!!!</td>\n",
       "      <td>gown</td>\n",
       "      <td>66</td>\n",
       "      <td>12</td>\n",
       "      <td>36</td>\n",
       "      <td>June 18, 2013</td>\n",
       "    </tr>\n",
       "    <tr>\n",
       "      <th>2</th>\n",
       "      <td>fit</td>\n",
       "      <td>360448</td>\n",
       "      <td>36a</td>\n",
       "      <td>1063761</td>\n",
       "      <td>228</td>\n",
       "      <td>10</td>\n",
       "      <td>party</td>\n",
       "      <td>This hugged in all the right places! It was a ...</td>\n",
       "      <td>straight &amp; narrow</td>\n",
       "      <td>It was a great time to celebrate the (almost) ...</td>\n",
       "      <td>sheath</td>\n",
       "      <td>64</td>\n",
       "      <td>4</td>\n",
       "      <td>116</td>\n",
       "      <td>December 14, 2015</td>\n",
       "    </tr>\n",
       "    <tr>\n",
       "      <th>3</th>\n",
       "      <td>fit</td>\n",
       "      <td>909926</td>\n",
       "      <td>34c</td>\n",
       "      <td>126335</td>\n",
       "      <td>135</td>\n",
       "      <td>8</td>\n",
       "      <td>formal affair</td>\n",
       "      <td>I rented this for my company's black tie award...</td>\n",
       "      <td>pear</td>\n",
       "      <td>Dress arrived on time and in perfect condition.</td>\n",
       "      <td>dress</td>\n",
       "      <td>65</td>\n",
       "      <td>8</td>\n",
       "      <td>34</td>\n",
       "      <td>February 12, 2014</td>\n",
       "    </tr>\n",
       "    <tr>\n",
       "      <th>4</th>\n",
       "      <td>fit</td>\n",
       "      <td>151944</td>\n",
       "      <td>34b</td>\n",
       "      <td>616682</td>\n",
       "      <td>145</td>\n",
       "      <td>10</td>\n",
       "      <td>wedding</td>\n",
       "      <td>I have always been petite in my upper body and...</td>\n",
       "      <td>athletic</td>\n",
       "      <td>Was in love with this dress !!!</td>\n",
       "      <td>gown</td>\n",
       "      <td>69</td>\n",
       "      <td>12</td>\n",
       "      <td>27</td>\n",
       "      <td>September 26, 2016</td>\n",
       "    </tr>\n",
       "  </tbody>\n",
       "</table>\n",
       "</div>"
      ],
      "text/plain": [
       "   fit user_id bust size  item_id  weight  rating     rented for  \\\n",
       "0  fit  420272       34d  2260466     137      10       vacation   \n",
       "1  fit  273551       34b   153475     132      10          other   \n",
       "2  fit  360448       36a  1063761     228      10          party   \n",
       "3  fit  909926       34c   126335     135       8  formal affair   \n",
       "4  fit  151944       34b   616682     145      10        wedding   \n",
       "\n",
       "                                         review_text          body type  \\\n",
       "0  An adorable romper! Belt and zipper were a lit...          hourglass   \n",
       "1  I rented this dress for a photo shoot. The the...  straight & narrow   \n",
       "2  This hugged in all the right places! It was a ...  straight & narrow   \n",
       "3  I rented this for my company's black tie award...               pear   \n",
       "4  I have always been petite in my upper body and...           athletic   \n",
       "\n",
       "                                      review_summary category  height  size  \\\n",
       "0                               So many compliments!   romper      68    14   \n",
       "1                            I felt so glamourous!!!     gown      66    12   \n",
       "2  It was a great time to celebrate the (almost) ...   sheath      64     4   \n",
       "3   Dress arrived on time and in perfect condition.     dress      65     8   \n",
       "4                    Was in love with this dress !!!     gown      69    12   \n",
       "\n",
       "   age         review_date  \n",
       "0   28      April 20, 2016  \n",
       "1   36       June 18, 2013  \n",
       "2  116   December 14, 2015  \n",
       "3   34   February 12, 2014  \n",
       "4   27  September 26, 2016  "
      ]
     },
     "execution_count": 159,
     "metadata": {},
     "output_type": "execute_result"
    }
   ],
   "source": [
    "cloth.head()"
   ]
  },
  {
   "cell_type": "markdown",
   "id": "fa021a5b",
   "metadata": {},
   "source": [
    "## EDA"
   ]
  },
  {
   "cell_type": "code",
   "execution_count": 9,
   "id": "1dcccf63",
   "metadata": {},
   "outputs": [],
   "source": [
    "import seaborn as sns\n",
    "sns.set_theme(style=\"whitegrid\")"
   ]
  },
  {
   "cell_type": "code",
   "execution_count": 10,
   "id": "79bb0257",
   "metadata": {},
   "outputs": [
    {
     "data": {
      "text/plain": [
       "(array([  137.,   329., 12243., 37562., 52382., 66156., 18468.,  4972.,\n",
       "          221.,    74.]),\n",
       " array([54. , 56.4, 58.8, 61.2, 63.6, 66. , 68.4, 70.8, 73.2, 75.6, 78. ]),\n",
       " <BarContainer object of 10 artists>)"
      ]
     },
     "execution_count": 10,
     "metadata": {},
     "output_type": "execute_result"
    },
    {
     "data": {
      "image/png": "[encoded data removed]",
      "text/plain": [
       "<Figure size 432x288 with 1 Axes>"
      ]
     },
     "metadata": {},
     "output_type": "display_data"
    }
   ],
   "source": [
    "plt.hist(cloth['height'])"
   ]
  },
  {
   "cell_type": "code",
   "execution_count": 11,
   "id": "3653a7e6",
   "metadata": {},
   "outputs": [
    {
     "data": {
      "text/plain": [
       "(array([  491.,  3488., 44891., 84487., 34004., 11049.,  6156.,  4381.,\n",
       "         2465.,  1132.]),\n",
       " array([ 50.,  75., 100., 125., 150., 175., 200., 225., 250., 275., 300.]),\n",
       " <BarContainer object of 10 artists>)"
      ]
     },
     "execution_count": 11,
     "metadata": {},
     "output_type": "execute_result"
    },
    {
     "data": {
      "image/png": "[encoded data removed]",
      "text/plain": [
       "<Figure size 432x288 with 1 Axes>"
      ]
     },
     "metadata": {},
     "output_type": "display_data"
    }
   ],
   "source": [
    "plt.hist(cloth['weight'])"
   ]
  },
  {
   "cell_type": "code",
   "execution_count": 12,
   "id": "1bfd44bd",
   "metadata": {},
   "outputs": [
    {
     "data": {
      "text/plain": [
       "(array([46986., 44577., 59337., 20373., 14934.,  1809.,  2469.,  1112.,\n",
       "          640.,   307.]),\n",
       " array([ 0. ,  5.8, 11.6, 17.4, 23.2, 29. , 34.8, 40.6, 46.4, 52.2, 58. ]),\n",
       " <BarContainer object of 10 artists>)"
      ]
     },
     "execution_count": 12,
     "metadata": {},
     "output_type": "execute_result"
    },
    {
     "data": {
      "image/png": "[encoded data removed]",
      "text/plain": [
       "<Figure size 432x288 with 1 Axes>"
      ]
     },
     "metadata": {},
     "output_type": "display_data"
    }
   ],
   "source": [
    "plt.hist(cloth['size'])"
   ]
  },
  {
   "cell_type": "code",
   "execution_count": 13,
   "id": "6aae6c8e",
   "metadata": {},
   "outputs": [
    {
     "data": {
      "text/plain": [
       "(array([1.45000e+02, 8.16400e+03, 1.23552e+05, 4.44480e+04, 1.36600e+04,\n",
       "        2.16400e+03, 1.47000e+02, 8.00000e+01, 4.70000e+01, 1.37000e+02]),\n",
       " array([  0. ,  11.7,  23.4,  35.1,  46.8,  58.5,  70.2,  81.9,  93.6,\n",
       "        105.3, 117. ]),\n",
       " <BarContainer object of 10 artists>)"
      ]
     },
     "execution_count": 13,
     "metadata": {},
     "output_type": "execute_result"
    },
    {
     "data": {
      "image/png": "[encoded data removed]",
      "text/plain": [
       "<Figure size 432x288 with 1 Axes>"
      ]
     },
     "metadata": {},
     "output_type": "display_data"
    }
   ],
   "source": [
    "plt.hist(cloth['age'])"
   ]
  },
  {
   "cell_type": "code",
   "execution_count": 14,
   "id": "971f0cb7",
   "metadata": {},
   "outputs": [],
   "source": [
    "rand = cloth.sample(10000)"
   ]
  },
  {
   "cell_type": "code",
   "execution_count": 15,
   "id": "ca69f5db",
   "metadata": {},
   "outputs": [
    {
     "data": {
      "text/plain": [
       "<matplotlib.collections.PathCollection at 0x1b4fa104be0>"
      ]
     },
     "execution_count": 15,
     "metadata": {},
     "output_type": "execute_result"
    },
    {
     "data": {
      "image/png": "[encoded data removed]",
      "text/plain": [
       "<Figure size 432x288 with 1 Axes>"
      ]
     },
     "metadata": {},
     "output_type": "display_data"
    }
   ],
   "source": [
    "plt.scatter(rand['height'], rand['size'])"
   ]
  },
  {
   "cell_type": "code",
   "execution_count": 16,
   "id": "bfc687f7",
   "metadata": {},
   "outputs": [
    {
     "data": {
      "text/plain": [
       "<matplotlib.collections.PathCollection at 0x1b4fa9ad6a0>"
      ]
     },
     "execution_count": 16,
     "metadata": {},
     "output_type": "execute_result"
    },
    {
     "data": {
      "image/png": "[encoded data removed]",
      "text/plain": [
       "<Figure size 432x288 with 1 Axes>"
      ]
     },
     "metadata": {},
     "output_type": "display_data"
    }
   ],
   "source": [
    "plt.scatter(rand['weight'], rand['size'])"
   ]
  },
  {
   "cell_type": "code",
   "execution_count": 17,
   "id": "fb1b10f6",
   "metadata": {},
   "outputs": [
    {
     "data": {
      "text/plain": [
       "<matplotlib.collections.PathCollection at 0x1b4fac18640>"
      ]
     },
     "execution_count": 17,
     "metadata": {},
     "output_type": "execute_result"
    },
    {
     "data": {
      "image/png": "[encoded data removed]",
      "text/plain": [
       "<Figure size 432x288 with 1 Axes>"
      ]
     },
     "metadata": {},
     "output_type": "display_data"
    }
   ],
   "source": [
    "plt.scatter(rand['age'], rand['size'])"
   ]
  },
  {
   "cell_type": "code",
   "execution_count": 18,
   "id": "04bba7f4",
   "metadata": {},
   "outputs": [
    {
     "data": {
      "image/png": "[encoded data removed]",
      "text/plain": [
       "<Figure size 432x288 with 1 Axes>"
      ]
     },
     "metadata": {},
     "output_type": "display_data"
    }
   ],
   "source": [
    "ax = sns.boxplot(x=cloth[\"size\"])"
   ]
  },
  {
   "cell_type": "code",
   "execution_count": 19,
   "id": "a1137db0",
   "metadata": {},
   "outputs": [
    {
     "data": {
      "text/plain": [
       "<AxesSubplot:xlabel='age'>"
      ]
     },
     "execution_count": 19,
     "metadata": {},
     "output_type": "execute_result"
    },
    {
     "data": {
      "image/png": "[encoded data removed]",
      "text/plain": [
       "<Figure size 432x288 with 1 Axes>"
      ]
     },
     "metadata": {},
     "output_type": "display_data"
    }
   ],
   "source": [
    "sns.boxplot(x=cloth[\"age\"])"
   ]
  },
  {
   "cell_type": "code",
   "execution_count": 20,
   "id": "e4043895",
   "metadata": {},
   "outputs": [
    {
     "data": {
      "text/plain": [
       "<AxesSubplot:xlabel='height'>"
      ]
     },
     "execution_count": 20,
     "metadata": {},
     "output_type": "execute_result"
    },
    {
     "data": {
      "image/png": "[encoded data removed]",
      "text/plain": [
       "<Figure size 432x288 with 1 Axes>"
      ]
     },
     "metadata": {},
     "output_type": "display_data"
    }
   ],
   "source": [
    "sns.boxplot(x=cloth[\"height\"])"
   ]
  },
  {
   "cell_type": "code",
   "execution_count": 21,
   "id": "687bdcad",
   "metadata": {},
   "outputs": [
    {
     "data": {
      "text/plain": [
       "<AxesSubplot:xlabel='weight'>"
      ]
     },
     "execution_count": 21,
     "metadata": {},
     "output_type": "execute_result"
    },
    {
     "data": {
      "image/png": "[encoded data removed]",
      "text/plain": [
       "<Figure size 432x288 with 1 Axes>"
      ]
     },
     "metadata": {},
     "output_type": "display_data"
    }
   ],
   "source": [
    "sns.boxplot(x=cloth[\"weight\"])"
   ]
  },
  {
   "cell_type": "markdown",
   "id": "ff054b59",
   "metadata": {},
   "source": [
    "## Feature Engineering"
   ]
  },
  {
   "cell_type": "code",
   "execution_count": 160,
   "id": "19f2ef80",
   "metadata": {},
   "outputs": [],
   "source": [
    "data = cloth.to_dict('index')"
   ]
  },
  {
   "cell_type": "code",
   "execution_count": 168,
   "id": "ee45d2eb",
   "metadata": {},
   "outputs": [],
   "source": [
    "itemsPerUser = defaultdict(set)\n",
    "usersPerItem = defaultdict(set)\n",
    "bustPerUser = defaultdict(set)\n",
    "bustPerItem = defaultdict(set)\n",
    "weightPerUser = defaultdict(set)\n",
    "weightPerItem = defaultdict(set)\n",
    "bodyPerUser = defaultdict(set)\n",
    "bodyPerItem = defaultdict(set)\n",
    "heightPerUser = defaultdict(set)\n",
    "heightPerItem = defaultdict(set)\n",
    "agePerUser = defaultdict(set)\n",
    "agePerItem = defaultdict(set)\n",
    "sizePerUser = defaultdict(set)\n",
    "sizePerItem = defaultdict(set)\n",
    "statsPerItem = defaultdict(set)"
   ]
  },
  {
   "cell_type": "code",
   "execution_count": 169,
   "id": "189a4992",
   "metadata": {},
   "outputs": [],
   "source": [
    "for k, v in data.items():\n",
    "    user = v['user_id']\n",
    "    item = v['item_id']\n",
    "    bust = v['bust size']\n",
    "    weight = v['weight']\n",
    "    body = v['body type']\n",
    "    height = v['height']\n",
    "    age = v['age']\n",
    "    size = v['size']\n",
    "    \n",
    "    itemsPerUser[user].add(item)\n",
    "    usersPerItem[item].add(user)\n",
    "    bustPerUser[user].add(bust)\n",
    "    bustPerItem[item].add(bust)\n",
    "    weightPerUser[user].add(weight)\n",
    "    weightPerItem[item].add(weight)\n",
    "    bodyPerUser[user].add(body)\n",
    "    bodyPerItem[item].add(body)\n",
    "    heightPerUser[user].add(height)\n",
    "    heightPerItem[item].add(height)\n",
    "    agePerUser[user].add(age)\n",
    "    agePerItem[item].add(age)\n",
    "    sizePerUser[user].add(size)\n",
    "    sizePerItem[item].add(size)\n",
    "    statsPerItem[item].add((height, weight, size))"
   ]
  },
  {
   "cell_type": "code",
   "execution_count": 189,
   "id": "9aa9e10b",
   "metadata": {},
   "outputs": [],
   "source": [
    "def Jaccard(s1, s2):\n",
    "    numer = len(s1.intersection(s2))\n",
    "    denom = len(s1.union(s2))\n",
    "    if denom == 0:\n",
    "        return 0\n",
    "    return numer / denom\n",
    "\n",
    "def CosineSet(s1, s2):\n",
    "    # Not a proper implementation, operates on sets so correct for interactions only\n",
    "    numer = len(s1.intersection(s2))\n",
    "    denom = math.sqrt(len(s1)) * math.sqrt(len(s2))\n",
    "    if denom == 0:\n",
    "        return 0\n",
    "    return numer / denom\n",
    "\n",
    "def similar_sizes(x, y):\n",
    "    same = x.intersection(y)\n",
    "    return random.sample(same, 1)[0]\n",
    "\n",
    "def avg_item_size(x):\n",
    "    return sum(list(sizePerItem[x])) / len(list(sizePerItem[x]))\n",
    "\n",
    "def size_finder(item, y, x):\n",
    "    possible_sizes = set()\n",
    "\n",
    "    for d in statsPerItem[item]:\n",
    "        h = d[0]\n",
    "        w = d[1]\n",
    "        s = d[-1]\n",
    "    \n",
    "        if h == x:\n",
    "            possible_sizes.add(s)\n",
    "        if w in range(y - 3, y + 3, 1):\n",
    "            possible_sizes.add(s)\n",
    "            \n",
    "    return random.sample(possible_sizes, 1)[0]"
   ]
  },
  {
   "cell_type": "code",
   "execution_count": 191,
   "id": "bacea3e9",
   "metadata": {},
   "outputs": [
    {
     "data": {
      "text/html": [
       "<div>\n",
       "<style scoped>\n",
       "    .dataframe tbody tr th:only-of-type {\n",
       "        vertical-align: middle;\n",
       "    }\n",
       "\n",
       "    .dataframe tbody tr th {\n",
       "        vertical-align: top;\n",
       "    }\n",
       "\n",
       "    .dataframe thead th {\n",
       "        text-align: right;\n",
       "    }\n",
       "</style>\n",
       "<table border=\"1\" class=\"dataframe\">\n",
       "  <thead>\n",
       "    <tr style=\"text-align: right;\">\n",
       "      <th></th>\n",
       "      <th>fit</th>\n",
       "      <th>user_id</th>\n",
       "      <th>bust size</th>\n",
       "      <th>item_id</th>\n",
       "      <th>weight</th>\n",
       "      <th>rating</th>\n",
       "      <th>rented for</th>\n",
       "      <th>review_text</th>\n",
       "      <th>body type</th>\n",
       "      <th>review_summary</th>\n",
       "      <th>...</th>\n",
       "      <th>size</th>\n",
       "      <th>age</th>\n",
       "      <th>review_date</th>\n",
       "      <th>user sizes</th>\n",
       "      <th>item sizes</th>\n",
       "      <th>jaccard</th>\n",
       "      <th>cosine</th>\n",
       "      <th>sim size</th>\n",
       "      <th>avg item size</th>\n",
       "      <th>pos size</th>\n",
       "    </tr>\n",
       "  </thead>\n",
       "  <tbody>\n",
       "    <tr>\n",
       "      <th>0</th>\n",
       "      <td>fit</td>\n",
       "      <td>420272</td>\n",
       "      <td>34d</td>\n",
       "      <td>2260466</td>\n",
       "      <td>137</td>\n",
       "      <td>10</td>\n",
       "      <td>vacation</td>\n",
       "      <td>An adorable romper! Belt and zipper were a lit...</td>\n",
       "      <td>hourglass</td>\n",
       "      <td>So many compliments!</td>\n",
       "      <td>...</td>\n",
       "      <td>14</td>\n",
       "      <td>28</td>\n",
       "      <td>April 20, 2016</td>\n",
       "      <td>{8, 12, 14}</td>\n",
       "      <td>{8, 20, 4, 14}</td>\n",
       "      <td>0.400000</td>\n",
       "      <td>0.577350</td>\n",
       "      <td>14</td>\n",
       "      <td>11.500000</td>\n",
       "      <td>14</td>\n",
       "    </tr>\n",
       "    <tr>\n",
       "      <th>1</th>\n",
       "      <td>fit</td>\n",
       "      <td>273551</td>\n",
       "      <td>34b</td>\n",
       "      <td>153475</td>\n",
       "      <td>132</td>\n",
       "      <td>10</td>\n",
       "      <td>other</td>\n",
       "      <td>I rented this dress for a photo shoot. The the...</td>\n",
       "      <td>straight &amp; narrow</td>\n",
       "      <td>I felt so glamourous!!!</td>\n",
       "      <td>...</td>\n",
       "      <td>12</td>\n",
       "      <td>36</td>\n",
       "      <td>June 18, 2013</td>\n",
       "      <td>{12}</td>\n",
       "      <td>{0, 1, 2, 3, 4, 5, 7, 8, 9, 11, 12, 13, 14, 15...</td>\n",
       "      <td>0.030303</td>\n",
       "      <td>0.174078</td>\n",
       "      <td>12</td>\n",
       "      <td>20.878788</td>\n",
       "      <td>57</td>\n",
       "    </tr>\n",
       "    <tr>\n",
       "      <th>2</th>\n",
       "      <td>fit</td>\n",
       "      <td>360448</td>\n",
       "      <td>36a</td>\n",
       "      <td>1063761</td>\n",
       "      <td>228</td>\n",
       "      <td>10</td>\n",
       "      <td>party</td>\n",
       "      <td>This hugged in all the right places! It was a ...</td>\n",
       "      <td>straight &amp; narrow</td>\n",
       "      <td>It was a great time to celebrate the (almost) ...</td>\n",
       "      <td>...</td>\n",
       "      <td>4</td>\n",
       "      <td>116</td>\n",
       "      <td>December 14, 2015</td>\n",
       "      <td>{4}</td>\n",
       "      <td>{8, 4, 20, 14}</td>\n",
       "      <td>0.250000</td>\n",
       "      <td>0.500000</td>\n",
       "      <td>4</td>\n",
       "      <td>11.500000</td>\n",
       "      <td>20</td>\n",
       "    </tr>\n",
       "    <tr>\n",
       "      <th>3</th>\n",
       "      <td>fit</td>\n",
       "      <td>909926</td>\n",
       "      <td>34c</td>\n",
       "      <td>126335</td>\n",
       "      <td>135</td>\n",
       "      <td>8</td>\n",
       "      <td>formal affair</td>\n",
       "      <td>I rented this for my company's black tie award...</td>\n",
       "      <td>pear</td>\n",
       "      <td>Dress arrived on time and in perfect condition.</td>\n",
       "      <td>...</td>\n",
       "      <td>8</td>\n",
       "      <td>34</td>\n",
       "      <td>February 12, 2014</td>\n",
       "      <td>{8}</td>\n",
       "      <td>{32, 35, 4, 39, 8, 12, 45, 16, 51, 20, 24, 57,...</td>\n",
       "      <td>0.076923</td>\n",
       "      <td>0.277350</td>\n",
       "      <td>8</td>\n",
       "      <td>28.538462</td>\n",
       "      <td>32</td>\n",
       "    </tr>\n",
       "    <tr>\n",
       "      <th>4</th>\n",
       "      <td>fit</td>\n",
       "      <td>151944</td>\n",
       "      <td>34b</td>\n",
       "      <td>616682</td>\n",
       "      <td>145</td>\n",
       "      <td>10</td>\n",
       "      <td>wedding</td>\n",
       "      <td>I have always been petite in my upper body and...</td>\n",
       "      <td>athletic</td>\n",
       "      <td>Was in love with this dress !!!</td>\n",
       "      <td>...</td>\n",
       "      <td>12</td>\n",
       "      <td>27</td>\n",
       "      <td>September 26, 2016</td>\n",
       "      <td>{16, 12, 20}</td>\n",
       "      <td>{0, 1, 2, 3, 4, 5, 8, 9, 11, 12, 13, 15, 16, 1...</td>\n",
       "      <td>0.166667</td>\n",
       "      <td>0.408248</td>\n",
       "      <td>12</td>\n",
       "      <td>11.444444</td>\n",
       "      <td>13</td>\n",
       "    </tr>\n",
       "  </tbody>\n",
       "</table>\n",
       "<p>5 rows × 22 columns</p>\n",
       "</div>"
      ],
      "text/plain": [
       "   fit user_id bust size  item_id  weight  rating     rented for  \\\n",
       "0  fit  420272       34d  2260466     137      10       vacation   \n",
       "1  fit  273551       34b   153475     132      10          other   \n",
       "2  fit  360448       36a  1063761     228      10          party   \n",
       "3  fit  909926       34c   126335     135       8  formal affair   \n",
       "4  fit  151944       34b   616682     145      10        wedding   \n",
       "\n",
       "                                         review_text          body type  \\\n",
       "0  An adorable romper! Belt and zipper were a lit...          hourglass   \n",
       "1  I rented this dress for a photo shoot. The the...  straight & narrow   \n",
       "2  This hugged in all the right places! It was a ...  straight & narrow   \n",
       "3  I rented this for my company's black tie award...               pear   \n",
       "4  I have always been petite in my upper body and...           athletic   \n",
       "\n",
       "                                      review_summary  ... size  age  \\\n",
       "0                               So many compliments!  ...   14   28   \n",
       "1                            I felt so glamourous!!!  ...   12   36   \n",
       "2  It was a great time to celebrate the (almost) ...  ...    4  116   \n",
       "3   Dress arrived on time and in perfect condition.   ...    8   34   \n",
       "4                    Was in love with this dress !!!  ...   12   27   \n",
       "\n",
       "          review_date    user sizes  \\\n",
       "0      April 20, 2016   {8, 12, 14}   \n",
       "1       June 18, 2013          {12}   \n",
       "2   December 14, 2015           {4}   \n",
       "3   February 12, 2014           {8}   \n",
       "4  September 26, 2016  {16, 12, 20}   \n",
       "\n",
       "                                          item sizes   jaccard    cosine  \\\n",
       "0                                     {8, 20, 4, 14}  0.400000  0.577350   \n",
       "1  {0, 1, 2, 3, 4, 5, 7, 8, 9, 11, 12, 13, 14, 15...  0.030303  0.174078   \n",
       "2                                     {8, 4, 20, 14}  0.250000  0.500000   \n",
       "3  {32, 35, 4, 39, 8, 12, 45, 16, 51, 20, 24, 57,...  0.076923  0.277350   \n",
       "4  {0, 1, 2, 3, 4, 5, 8, 9, 11, 12, 13, 15, 16, 1...  0.166667  0.408248   \n",
       "\n",
       "   sim size  avg item size  pos size  \n",
       "0        14      11.500000        14  \n",
       "1        12      20.878788        57  \n",
       "2         4      11.500000        20  \n",
       "3         8      28.538462        32  \n",
       "4        12      11.444444        13  \n",
       "\n",
       "[5 rows x 22 columns]"
      ]
     },
     "execution_count": 191,
     "metadata": {},
     "output_type": "execute_result"
    }
   ],
   "source": [
    "cloth.head()"
   ]
  },
  {
   "cell_type": "code",
   "execution_count": 179,
   "id": "4d47f9b5",
   "metadata": {},
   "outputs": [],
   "source": [
    "cloth['user sizes'] = cloth['user_id'].copy().apply(lambda x: sizePerUser[x])\n",
    "cloth['item sizes'] = cloth['item_id'].copy().apply(lambda x: sizePerItem[x])"
   ]
  },
  {
   "cell_type": "code",
   "execution_count": 180,
   "id": "cbfcd0c4",
   "metadata": {},
   "outputs": [],
   "source": [
    "cloth['jaccard'] = cloth.apply(lambda x: Jaccard(x['user sizes'], x['item sizes']), axis = 1)"
   ]
  },
  {
   "cell_type": "code",
   "execution_count": 181,
   "id": "6c990284",
   "metadata": {},
   "outputs": [],
   "source": [
    "cloth['cosine'] = cloth.apply(lambda x: CosineSet(x['user sizes'], x['item sizes']), axis = 1)"
   ]
  },
  {
   "cell_type": "code",
   "execution_count": 182,
   "id": "69ced7a8",
   "metadata": {},
   "outputs": [
    {
     "name": "stderr",
     "output_type": "stream",
     "text": [
      "<ipython-input-177-0b8fe6d0ab1b>:18: DeprecationWarning: Sampling from a set deprecated\n",
      "since Python 3.9 and will be removed in a subsequent version.\n",
      "  return random.sample(same, 1)[0]\n"
     ]
    }
   ],
   "source": [
    "cloth['sim size'] = cloth.apply(lambda x: similar_sizes(x['user sizes'], x['item sizes']), axis = 1)"
   ]
  },
  {
   "cell_type": "code",
   "execution_count": 183,
   "id": "afa902c0",
   "metadata": {},
   "outputs": [],
   "source": [
    "cloth['avg item size'] = cloth['item_id'].apply(avg_item_size)"
   ]
  },
  {
   "cell_type": "code",
   "execution_count": 190,
   "id": "f50b10ca",
   "metadata": {},
   "outputs": [
    {
     "name": "stderr",
     "output_type": "stream",
     "text": [
      "<ipython-input-189-3f31fbd4c6ef>:36: DeprecationWarning: Sampling from a set deprecated\n",
      "since Python 3.9 and will be removed in a subsequent version.\n",
      "  return random.sample(possible_sizes, 1)[0]\n"
     ]
    }
   ],
   "source": [
    "cloth['pos size'] = cloth.apply(lambda x: size_finder(x['item_id'], x['weight'], x['height']), axis = 1)"
   ]
  },
  {
   "cell_type": "markdown",
   "id": "2fb56565",
   "metadata": {},
   "source": [
    "## Models"
   ]
  },
  {
   "cell_type": "markdown",
   "id": "b3f374f6",
   "metadata": {},
   "source": [
    "#### Baseline Model Linear Regression"
   ]
  },
  {
   "cell_type": "code",
   "execution_count": 74,
   "id": "c1cc8d00",
   "metadata": {},
   "outputs": [],
   "source": [
    "X = cloth[['weight', 'height']]\n",
    "y = cloth[['size']]"
   ]
  },
  {
   "cell_type": "code",
   "execution_count": 75,
   "id": "37326825",
   "metadata": {},
   "outputs": [],
   "source": [
    "from sklearn.model_selection import train_test_split\n",
    "X_train, X_test, y_train, y_test = train_test_split(X, y)"
   ]
  },
  {
   "cell_type": "code",
   "execution_count": 76,
   "id": "6009a458",
   "metadata": {},
   "outputs": [
    {
     "data": {
      "text/plain": [
       "LinearRegression()"
      ]
     },
     "execution_count": 76,
     "metadata": {},
     "output_type": "execute_result"
    }
   ],
   "source": [
    "from sklearn.linear_model import Ridge\n",
    "from sklearn.linear_model import LinearRegression\n",
    "clf = LinearRegression()\n",
    "clf.fit(X_train, y_train)"
   ]
  },
  {
   "cell_type": "code",
   "execution_count": 77,
   "id": "54066351",
   "metadata": {},
   "outputs": [],
   "source": [
    "pred = clf.predict(X_test)"
   ]
  },
  {
   "cell_type": "code",
   "execution_count": 78,
   "id": "8255b17b",
   "metadata": {},
   "outputs": [
    {
     "data": {
      "text/plain": [
       "51.50373588264132"
      ]
     },
     "execution_count": 78,
     "metadata": {},
     "output_type": "execute_result"
    }
   ],
   "source": [
    "from sklearn.metrics import mean_squared_error\n",
    "mean_squared_error(y_test, pred)"
   ]
  },
  {
   "cell_type": "code",
   "execution_count": 79,
   "id": "7c0083a9",
   "metadata": {},
   "outputs": [
    {
     "data": {
      "text/plain": [
       "0.2890598589408102"
      ]
     },
     "execution_count": 79,
     "metadata": {},
     "output_type": "execute_result"
    }
   ],
   "source": [
    "clf.score(X_test, y_test)"
   ]
  },
  {
   "cell_type": "markdown",
   "id": "585313d8",
   "metadata": {},
   "source": [
    "#### Baseline Model Linear Regression with OHE and additional features"
   ]
  },
  {
   "cell_type": "code",
   "execution_count": 92,
   "id": "90c98ff8",
   "metadata": {},
   "outputs": [],
   "source": [
    "X = cloth[['fit', 'bust size', 'weight', 'rating', 'rented for', 'body type', 'category', 'height', 'age']]\n",
    "y = cloth[['size']]\n",
    "X_train, X_test, y_train, y_test = train_test_split(X, y)"
   ]
  },
  {
   "cell_type": "code",
   "execution_count": 93,
   "id": "7db962c0",
   "metadata": {},
   "outputs": [],
   "source": [
    "from sklearn.pipeline import Pipeline\n",
    "from sklearn.compose import ColumnTransformer\n",
    "from sklearn.preprocessing import FunctionTransformer\n",
    "from sklearn.preprocessing import OneHotEncoder\n",
    "preproc = ColumnTransformer([('fit', OneHotEncoder(handle_unknown = 'ignore'), ['fit']), \n",
    "                             ('bust size', OneHotEncoder(handle_unknown = 'ignore'), ['bust size']),\n",
    "                             ('rented for', OneHotEncoder(handle_unknown = 'ignore'), ['rented for']),\n",
    "                             ('body type', OneHotEncoder(handle_unknown = 'ignore'), ['body type']),\n",
    "                             ('category', OneHotEncoder(handle_unknown = 'ignore'), ['category'])\n",
    "                            ], remainder = 'passthrough')"
   ]
  },
  {
   "cell_type": "code",
   "execution_count": 94,
   "id": "58145df8",
   "metadata": {},
   "outputs": [],
   "source": [
    "pl = Pipeline(steps = [('preproc', preproc), ('model', LinearRegression())])"
   ]
  },
  {
   "cell_type": "code",
   "execution_count": 95,
   "id": "490b9141",
   "metadata": {},
   "outputs": [
    {
     "data": {
      "text/plain": [
       "Pipeline(steps=[('preproc',\n",
       "                 ColumnTransformer(remainder='passthrough',\n",
       "                                   transformers=[('fit',\n",
       "                                                  OneHotEncoder(handle_unknown='ignore'),\n",
       "                                                  ['fit']),\n",
       "                                                 ('bust size',\n",
       "                                                  OneHotEncoder(handle_unknown='ignore'),\n",
       "                                                  ['bust size']),\n",
       "                                                 ('rented for',\n",
       "                                                  OneHotEncoder(handle_unknown='ignore'),\n",
       "                                                  ['rented for']),\n",
       "                                                 ('body type',\n",
       "                                                  OneHotEncoder(handle_unknown='ignore'),\n",
       "                                                  ['body type']),\n",
       "                                                 ('category',\n",
       "                                                  OneHotEncoder(handle_unknown='ignore'),\n",
       "                                                  ['category'])])),\n",
       "                ('model', LinearRegression())])"
      ]
     },
     "execution_count": 95,
     "metadata": {},
     "output_type": "execute_result"
    }
   ],
   "source": [
    "pl.fit(X_train, y_train)"
   ]
  },
  {
   "cell_type": "code",
   "execution_count": 96,
   "id": "04ca0af1",
   "metadata": {},
   "outputs": [
    {
     "data": {
      "text/plain": [
       "0.5384856437421419"
      ]
     },
     "execution_count": 96,
     "metadata": {},
     "output_type": "execute_result"
    }
   ],
   "source": [
    "pl.score(X_test, y_test)"
   ]
  },
  {
   "cell_type": "code",
   "execution_count": 97,
   "id": "61795a15",
   "metadata": {},
   "outputs": [
    {
     "data": {
      "text/plain": [
       "33.28093318904992"
      ]
     },
     "execution_count": 97,
     "metadata": {},
     "output_type": "execute_result"
    }
   ],
   "source": [
    "pred = pl.predict(X_test)\n",
    "mean_squared_error(y_test, pred)"
   ]
  },
  {
   "cell_type": "markdown",
   "id": "0ae38f0d",
   "metadata": {},
   "source": [
    "#### Desicion Tree Regressor"
   ]
  },
  {
   "cell_type": "code",
   "execution_count": 254,
   "id": "36cd412e",
   "metadata": {},
   "outputs": [],
   "source": [
    "from sklearn import tree\n",
    "dcr = Pipeline(steps = [('preproc', preproc), ('model', tree.DecisionTreeRegressor())])"
   ]
  },
  {
   "cell_type": "code",
   "execution_count": 255,
   "id": "3f20db3d",
   "metadata": {},
   "outputs": [
    {
     "data": {
      "text/plain": [
       "Pipeline(steps=[('preproc',\n",
       "                 ColumnTransformer(remainder='passthrough',\n",
       "                                   transformers=[('fit',\n",
       "                                                  OneHotEncoder(handle_unknown='ignore'),\n",
       "                                                  ['fit']),\n",
       "                                                 ('bust size',\n",
       "                                                  OneHotEncoder(handle_unknown='ignore'),\n",
       "                                                  ['bust size']),\n",
       "                                                 ('rented for',\n",
       "                                                  OneHotEncoder(handle_unknown='ignore'),\n",
       "                                                  ['rented for']),\n",
       "                                                 ('body type',\n",
       "                                                  OneHotEncoder(handle_unknown='ignore'),\n",
       "                                                  ['body type']),\n",
       "                                                 ('category',\n",
       "                                                  OneHotEncoder(handle_unknown='ignore'),\n",
       "                                                  ['category'])])),\n",
       "                ('model', DecisionTreeRegressor())])"
      ]
     },
     "execution_count": 255,
     "metadata": {},
     "output_type": "execute_result"
    }
   ],
   "source": [
    "dcr.fit(X_train, y_train)"
   ]
  },
  {
   "cell_type": "code",
   "execution_count": 256,
   "id": "88ab31e0",
   "metadata": {},
   "outputs": [
    {
     "data": {
      "text/plain": [
       "0.3411956480560818"
      ]
     },
     "execution_count": 256,
     "metadata": {},
     "output_type": "execute_result"
    }
   ],
   "source": [
    "dcr.score(X_test, y_test)"
   ]
  },
  {
   "cell_type": "markdown",
   "id": "942d9b9e",
   "metadata": {},
   "source": [
    "#### Ridge "
   ]
  },
  {
   "cell_type": "code",
   "execution_count": 289,
   "id": "1463f431",
   "metadata": {},
   "outputs": [],
   "source": [
    "from sklearn import linear_model\n",
    "from sklearn.svm import LinearSVC\n",
    "from sklearn.feature_selection import SelectFromModel\n",
    "br = Pipeline(steps = [('preproc', preproc), ('model', Ridge(1))])"
   ]
  },
  {
   "cell_type": "code",
   "execution_count": 290,
   "id": "962d6210",
   "metadata": {},
   "outputs": [
    {
     "data": {
      "text/plain": [
       "Pipeline(steps=[('preproc',\n",
       "                 ColumnTransformer(remainder='passthrough',\n",
       "                                   transformers=[('fit',\n",
       "                                                  OneHotEncoder(handle_unknown='ignore'),\n",
       "                                                  ['fit']),\n",
       "                                                 ('bust size',\n",
       "                                                  OneHotEncoder(handle_unknown='ignore'),\n",
       "                                                  ['bust size']),\n",
       "                                                 ('rented for',\n",
       "                                                  OneHotEncoder(handle_unknown='ignore'),\n",
       "                                                  ['rented for']),\n",
       "                                                 ('body type',\n",
       "                                                  OneHotEncoder(handle_unknown='ignore'),\n",
       "                                                  ['body type']),\n",
       "                                                 ('category',\n",
       "                                                  OneHotEncoder(handle_unknown='ignore'),\n",
       "                                                  ['category'])])),\n",
       "                ('model', Ridge(alpha=1))])"
      ]
     },
     "execution_count": 290,
     "metadata": {},
     "output_type": "execute_result"
    }
   ],
   "source": [
    "br.fit(X_train, y_train)"
   ]
  },
  {
   "cell_type": "code",
   "execution_count": 291,
   "id": "552e261b",
   "metadata": {},
   "outputs": [
    {
     "data": {
      "text/plain": [
       "0.5239960067257012"
      ]
     },
     "execution_count": 291,
     "metadata": {},
     "output_type": "execute_result"
    }
   ],
   "source": [
    "br.score(X_test, y_test)"
   ]
  },
  {
   "cell_type": "markdown",
   "id": "b19616ce",
   "metadata": {},
   "source": [
    "#### Linear Regression with Jaccard, CosineSet"
   ]
  },
  {
   "cell_type": "code",
   "execution_count": 98,
   "id": "1de72ba5",
   "metadata": {},
   "outputs": [],
   "source": [
    "X = cloth[['fit', 'bust size', 'weight', 'rating', 'rented for', 'body type', 'category', 'height', 'age', 'jaccard', 'cosine']]\n",
    "y = cloth[['size']]\n",
    "X_train, X_test, y_train, y_test = train_test_split(X, y)"
   ]
  },
  {
   "cell_type": "code",
   "execution_count": 99,
   "id": "3bfe3a01",
   "metadata": {},
   "outputs": [],
   "source": [
    "from sklearn.pipeline import Pipeline\n",
    "from sklearn.compose import ColumnTransformer\n",
    "from sklearn.preprocessing import FunctionTransformer\n",
    "from sklearn.preprocessing import OneHotEncoder\n",
    "preproc = ColumnTransformer([('fit', OneHotEncoder(handle_unknown = 'ignore'), ['fit']), \n",
    "                             ('bust size', OneHotEncoder(handle_unknown = 'ignore'), ['bust size']),\n",
    "                             ('rented for', OneHotEncoder(handle_unknown = 'ignore'), ['rented for']),\n",
    "                             ('body type', OneHotEncoder(handle_unknown = 'ignore'), ['body type']),\n",
    "                             ('category', OneHotEncoder(handle_unknown = 'ignore'), ['category'])\n",
    "                            ], remainder = 'passthrough')"
   ]
  },
  {
   "cell_type": "code",
   "execution_count": 100,
   "id": "aa057c6d",
   "metadata": {},
   "outputs": [],
   "source": [
    "pl = Pipeline(steps = [('preproc', preproc), ('model', LinearRegression())])"
   ]
  },
  {
   "cell_type": "code",
   "execution_count": 101,
   "id": "cc0cea0c",
   "metadata": {},
   "outputs": [
    {
     "data": {
      "text/plain": [
       "Pipeline(steps=[('preproc',\n",
       "                 ColumnTransformer(remainder='passthrough',\n",
       "                                   transformers=[('fit',\n",
       "                                                  OneHotEncoder(handle_unknown='ignore'),\n",
       "                                                  ['fit']),\n",
       "                                                 ('bust size',\n",
       "                                                  OneHotEncoder(handle_unknown='ignore'),\n",
       "                                                  ['bust size']),\n",
       "                                                 ('rented for',\n",
       "                                                  OneHotEncoder(handle_unknown='ignore'),\n",
       "                                                  ['rented for']),\n",
       "                                                 ('body type',\n",
       "                                                  OneHotEncoder(handle_unknown='ignore'),\n",
       "                                                  ['body type']),\n",
       "                                                 ('category',\n",
       "                                                  OneHotEncoder(handle_unknown='ignore'),\n",
       "                                                  ['category'])])),\n",
       "                ('model', LinearRegression())])"
      ]
     },
     "execution_count": 101,
     "metadata": {},
     "output_type": "execute_result"
    }
   ],
   "source": [
    "pl.fit(X_train, y_train)"
   ]
  },
  {
   "cell_type": "code",
   "execution_count": 102,
   "id": "c50ecb9c",
   "metadata": {},
   "outputs": [
    {
     "data": {
      "text/plain": [
       "0.5395344362843839"
      ]
     },
     "execution_count": 102,
     "metadata": {},
     "output_type": "execute_result"
    }
   ],
   "source": [
    "pl.score(X_test, y_test)"
   ]
  },
  {
   "cell_type": "code",
   "execution_count": 103,
   "id": "6744e936",
   "metadata": {},
   "outputs": [],
   "source": [
    "pred = pl.predict(X_test)"
   ]
  },
  {
   "cell_type": "code",
   "execution_count": 104,
   "id": "bca01a4a",
   "metadata": {},
   "outputs": [
    {
     "data": {
      "text/plain": [
       "32.98617380373574"
      ]
     },
     "execution_count": 104,
     "metadata": {},
     "output_type": "execute_result"
    }
   ],
   "source": [
    "mean_squared_error(y_test, pred)"
   ]
  },
  {
   "cell_type": "markdown",
   "id": "956a8a08",
   "metadata": {},
   "source": [
    "#### Linear Regression with Avg Item Size & Pos Size"
   ]
  },
  {
   "cell_type": "code",
   "execution_count": 192,
   "id": "913a6b73",
   "metadata": {},
   "outputs": [],
   "source": [
    "X = cloth[['fit', 'bust size', 'weight', 'rating', 'rented for', 'body type', 'category', 'height', 'age', 'avg item size', 'pos size']]\n",
    "y = cloth[['size']]\n",
    "X_train, X_test, y_train, y_test = train_test_split(X, y)"
   ]
  },
  {
   "cell_type": "code",
   "execution_count": 193,
   "id": "119daa96",
   "metadata": {},
   "outputs": [
    {
     "data": {
      "text/plain": [
       "Pipeline(steps=[('preproc',\n",
       "                 ColumnTransformer(remainder='passthrough',\n",
       "                                   transformers=[('fit',\n",
       "                                                  OneHotEncoder(handle_unknown='ignore'),\n",
       "                                                  ['fit']),\n",
       "                                                 ('bust size',\n",
       "                                                  OneHotEncoder(handle_unknown='ignore'),\n",
       "                                                  ['bust size']),\n",
       "                                                 ('rented for',\n",
       "                                                  OneHotEncoder(handle_unknown='ignore'),\n",
       "                                                  ['rented for']),\n",
       "                                                 ('body type',\n",
       "                                                  OneHotEncoder(handle_unknown='ignore'),\n",
       "                                                  ['body type']),\n",
       "                                                 ('category',\n",
       "                                                  OneHotEncoder(handle_unknown='ignore'),\n",
       "                                                  ['category'])])),\n",
       "                ('model', LinearRegression())])"
      ]
     },
     "execution_count": 193,
     "metadata": {},
     "output_type": "execute_result"
    }
   ],
   "source": [
    "preproc = ColumnTransformer([('fit', OneHotEncoder(handle_unknown = 'ignore'), ['fit']), \n",
    "                             ('bust size', OneHotEncoder(handle_unknown = 'ignore'), ['bust size']),\n",
    "                             ('rented for', OneHotEncoder(handle_unknown = 'ignore'), ['rented for']),\n",
    "                             ('body type', OneHotEncoder(handle_unknown = 'ignore'), ['body type']),\n",
    "                             ('category', OneHotEncoder(handle_unknown = 'ignore'), ['category'])\n",
    "                            ], remainder = 'passthrough')\n",
    "\n",
    "pl = Pipeline(steps = [('preproc', preproc), ('model', LinearRegression())])\n",
    "pl.fit(X_train, y_train)"
   ]
  },
  {
   "cell_type": "code",
   "execution_count": 194,
   "id": "9444e4d1",
   "metadata": {},
   "outputs": [
    {
     "data": {
      "text/plain": [
       "0.5902716951213454"
      ]
     },
     "execution_count": 194,
     "metadata": {},
     "output_type": "execute_result"
    }
   ],
   "source": [
    "pl.score(X_test, y_test)"
   ]
  },
  {
   "cell_type": "code",
   "execution_count": 195,
   "id": "5978bd49",
   "metadata": {},
   "outputs": [
    {
     "data": {
      "text/plain": [
       "29.37451675535057"
      ]
     },
     "execution_count": 195,
     "metadata": {},
     "output_type": "execute_result"
    }
   ],
   "source": [
    "pred = pl.predict(X_test)\n",
    "mean_squared_error(y_test, pred)"
   ]
  },
  {
   "cell_type": "markdown",
   "id": "1692a7ee",
   "metadata": {},
   "source": [
    "#### Decision Tree Regression with Sim Size"
   ]
  },
  {
   "cell_type": "code",
   "execution_count": 196,
   "id": "c35c7312",
   "metadata": {},
   "outputs": [],
   "source": [
    "X = cloth[['fit', 'bust size', 'weight', 'rating', 'rented for', 'body type', 'category', 'height', 'age', 'sim size']]\n",
    "y = cloth[['size']]\n",
    "X_train, X_test, y_train, y_test = train_test_split(X, y)"
   ]
  },
  {
   "cell_type": "code",
   "execution_count": 197,
   "id": "8bce751a",
   "metadata": {},
   "outputs": [],
   "source": [
    "from sklearn.pipeline import Pipeline\n",
    "from sklearn.compose import ColumnTransformer\n",
    "from sklearn.preprocessing import FunctionTransformer\n",
    "from sklearn.preprocessing import OneHotEncoder\n",
    "preproc = ColumnTransformer([('fit', OneHotEncoder(handle_unknown = 'ignore'), ['fit']), \n",
    "                             ('bust size', OneHotEncoder(handle_unknown = 'ignore'), ['bust size']),\n",
    "                             ('rented for', OneHotEncoder(handle_unknown = 'ignore'), ['rented for']),\n",
    "                             ('body type', OneHotEncoder(handle_unknown = 'ignore'), ['body type']),\n",
    "                             ('category', OneHotEncoder(handle_unknown = 'ignore'), ['category'])\n",
    "                            ], remainder = 'passthrough')"
   ]
  },
  {
   "cell_type": "code",
   "execution_count": 130,
   "id": "09a9bcc0",
   "metadata": {},
   "outputs": [],
   "source": [
    "from sklearn import tree\n",
    "pl = Pipeline(steps = [('preproc', preproc), ('model', tree.DecisionTreeRegressor())])"
   ]
  },
  {
   "cell_type": "code",
   "execution_count": 131,
   "id": "53498e3c",
   "metadata": {},
   "outputs": [
    {
     "data": {
      "text/plain": [
       "Pipeline(steps=[('preproc',\n",
       "                 ColumnTransformer(remainder='passthrough',\n",
       "                                   transformers=[('fit',\n",
       "                                                  OneHotEncoder(handle_unknown='ignore'),\n",
       "                                                  ['fit']),\n",
       "                                                 ('bust size',\n",
       "                                                  OneHotEncoder(handle_unknown='ignore'),\n",
       "                                                  ['bust size']),\n",
       "                                                 ('rented for',\n",
       "                                                  OneHotEncoder(handle_unknown='ignore'),\n",
       "                                                  ['rented for']),\n",
       "                                                 ('body type',\n",
       "                                                  OneHotEncoder(handle_unknown='ignore'),\n",
       "                                                  ['body type']),\n",
       "                                                 ('category',\n",
       "                                                  OneHotEncoder(handle_unknown='ignore'),\n",
       "                                                  ['category'])])),\n",
       "                ('model', DecisionTreeRegressor())])"
      ]
     },
     "execution_count": 131,
     "metadata": {},
     "output_type": "execute_result"
    }
   ],
   "source": [
    "pl.fit(X_train, y_train)"
   ]
  },
  {
   "cell_type": "code",
   "execution_count": 132,
   "id": "7eb9d707",
   "metadata": {},
   "outputs": [
    {
     "data": {
      "text/plain": [
       "0.8518408435020278"
      ]
     },
     "execution_count": 132,
     "metadata": {},
     "output_type": "execute_result"
    }
   ],
   "source": [
    "pl.score(X_test, y_test)"
   ]
  },
  {
   "cell_type": "code",
   "execution_count": 133,
   "id": "99f2e675",
   "metadata": {},
   "outputs": [
    {
     "data": {
      "text/plain": [
       "10.779136322316294"
      ]
     },
     "execution_count": 133,
     "metadata": {},
     "output_type": "execute_result"
    }
   ],
   "source": [
    "pred = pl.predict(X_test)\n",
    "mean_squared_error(y_test, pred)"
   ]
  },
  {
   "cell_type": "markdown",
   "id": "edc08a2d",
   "metadata": {},
   "source": [
    "#### Linear Regression with Sim Size"
   ]
  },
  {
   "cell_type": "code",
   "execution_count": 198,
   "id": "fd6b6599",
   "metadata": {},
   "outputs": [
    {
     "data": {
      "text/plain": [
       "Pipeline(steps=[('preproc',\n",
       "                 ColumnTransformer(remainder='passthrough',\n",
       "                                   transformers=[('fit',\n",
       "                                                  OneHotEncoder(handle_unknown='ignore'),\n",
       "                                                  ['fit']),\n",
       "                                                 ('bust size',\n",
       "                                                  OneHotEncoder(handle_unknown='ignore'),\n",
       "                                                  ['bust size']),\n",
       "                                                 ('rented for',\n",
       "                                                  OneHotEncoder(handle_unknown='ignore'),\n",
       "                                                  ['rented for']),\n",
       "                                                 ('body type',\n",
       "                                                  OneHotEncoder(handle_unknown='ignore'),\n",
       "                                                  ['body type']),\n",
       "                                                 ('category',\n",
       "                                                  OneHotEncoder(handle_unknown='ignore'),\n",
       "                                                  ['category'])])),\n",
       "                ('model', LinearRegression())])"
      ]
     },
     "execution_count": 198,
     "metadata": {},
     "output_type": "execute_result"
    }
   ],
   "source": [
    "pl = Pipeline(steps = [('preproc', preproc), ('model', LinearRegression())])\n",
    "pl.fit(X_train, y_train)"
   ]
  },
  {
   "cell_type": "code",
   "execution_count": 199,
   "id": "671caf4d",
   "metadata": {},
   "outputs": [
    {
     "data": {
      "text/plain": [
       "0.9118472574626303"
      ]
     },
     "execution_count": 199,
     "metadata": {},
     "output_type": "execute_result"
    }
   ],
   "source": [
    "pl.score(X_test, y_test)"
   ]
  },
  {
   "cell_type": "code",
   "execution_count": 200,
   "id": "28e6897a",
   "metadata": {},
   "outputs": [
    {
     "data": {
      "text/plain": [
       "6.382182860224191"
      ]
     },
     "execution_count": 200,
     "metadata": {},
     "output_type": "execute_result"
    }
   ],
   "source": [
    "pred = pl.predict(X_test)\n",
    "mean_squared_error(y_test, pred)"
   ]
  },
  {
   "cell_type": "code",
   "execution_count": 202,
   "id": "b70d642b",
   "metadata": {},
   "outputs": [
    {
     "data": {
      "text/plain": [
       "array([0.91416429, 0.90489733, 0.91351886, 0.91208433, 0.911739  ])"
      ]
     },
     "execution_count": 202,
     "metadata": {},
     "output_type": "execute_result"
    }
   ],
   "source": [
    "from sklearn.model_selection import cross_validate\n",
    "from sklearn.model_selection import cross_val_score\n",
    "cross_val_score(pl, X_test, y_test, cv = 5)"
   ]
  },
  {
   "cell_type": "code",
   "execution_count": null,
   "id": "ee8dfa26",
   "metadata": {},
   "outputs": [],
   "source": []
  }
 ],
 "metadata": {
  "kernelspec": {
   "display_name": "Python 3",
   "language": "python",
   "name": "python3"
  },
  "language_info": {
   "codemirror_mode": {
    "name": "ipython",
    "version": 3
   },
   "file_extension": ".py",
   "mimetype": "text/x-python",
   "name": "python",
   "nbconvert_exporter": "python",
   "pygments_lexer": "ipython3",
   "version": "3.9.2"
  }
 },
 "nbformat": 4,
 "nbformat_minor": 5
}
